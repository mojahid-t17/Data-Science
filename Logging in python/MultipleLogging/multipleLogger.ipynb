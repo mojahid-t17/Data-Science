{
 "cells": [
  {
   "cell_type": "code",
   "execution_count": null,
   "id": "82d00208",
   "metadata": {},
   "outputs": [],
   "source": [
    "#logging with multiple logger\n",
    "\n",
    "import logging\n",
    " \n",
    " #create a logger for module 1\n",
    "logger1=logging.getLogger('module1')\n",
    "logger1.setLevel(logging.DEBUG)\n",
    "#create a logger for module 2\n",
    "logger2=logging.getLogger('module2')\n",
    "logger2.setLevel(logging.WARNING)\n",
    "\n",
    "logging.basicConfig(level=logging.DEBUG,\n",
    "                    format='%(asctime)s-%(name)s-%(levelname)s-%(message)s',\n",
    "                    datefmt='%Y-%m-%d %H:%M:%S')\n"
   ]
  },
  {
   "cell_type": "code",
   "execution_count": 6,
   "id": "6fd5347d",
   "metadata": {},
   "outputs": [
    {
     "name": "stderr",
     "output_type": "stream",
     "text": [
      "2025-09-15 23:44:50-module1-DEBUG-this is a debug message for module1\n",
      "2025-09-15 23:44:50-module2-WARNING-this is a warning message for module2\n",
      "2025-09-15 23:44:50-module2-ERROR-module 2 info\n"
     ]
    }
   ],
   "source": [
    "\n",
    "logger1.debug('this is a debug message for module1')\n",
    "logger2.warning('this is a warning message for module2')\n",
    "logger2.error('module 2 info')"
   ]
  }
 ],
 "metadata": {
  "kernelspec": {
   "display_name": "Python 3",
   "language": "python",
   "name": "python3"
  },
  "language_info": {
   "codemirror_mode": {
    "name": "ipython",
    "version": 3
   },
   "file_extension": ".py",
   "mimetype": "text/x-python",
   "name": "python",
   "nbconvert_exporter": "python",
   "pygments_lexer": "ipython3",
   "version": "3.12.3"
  }
 },
 "nbformat": 4,
 "nbformat_minor": 5
}
