{
 "cells": [
  {
   "cell_type": "markdown",
   "id": "63507972",
   "metadata": {},
   "source": [
    "### Assignment 2: Logging with Different Handlers\n",
    "\n",
    "1. Write a Python function to create a logger that logs messages to both a file named `app.log` and the console.\n",
    "2. Modify the function to use different logging levels for the file and console handlers."
   ]
  },
  {
   "cell_type": "code",
   "execution_count": 2,
   "id": "9859ffa7",
   "metadata": {},
   "outputs": [
    {
     "name": "stderr",
     "output_type": "stream",
     "text": [
      "2025-09-16 01:46:24 - my-logger - ERROR - this is a error\n",
      "2025-09-16 01:46:24 - my-logger - ERROR - this is a error\n"
     ]
    }
   ],
   "source": [
    "import logging \n",
    "logger=logging.getLogger('my-logger')\n",
    "logger.setLevel(logging.DEBUG)\n",
    "\n",
    "file_handler=logging.FileHandler('app1.log')\n",
    "file_handler.setLevel(logging.DEBUG)\n",
    "\n",
    "console_handler=logging.StreamHandler()\n",
    "console_handler.setLevel(logging.WARN)\n",
    "\n",
    "formater=logging.Formatter('%(asctime)s - %(name)s - %(levelname)s - %(message)s',\n",
    "                           datefmt='%Y-%m-%d %H:%M:%S'\n",
    "                           )\n",
    "\n",
    "file_handler.setFormatter(formater)\n",
    "console_handler.setFormatter(formater)\n",
    "\n",
    "# ✅ Attach handlers to logger\n",
    "logger.addHandler(file_handler)\n",
    "logger.addHandler(console_handler)\n",
    "\n",
    "\n",
    "logger.debug('this is from debug')\n",
    "logger.info('this is from infor')\n",
    "logger.error('this is a error')\n",
    "\n",
    "\n",
    "\n",
    "\n"
   ]
  }
 ],
 "metadata": {
  "kernelspec": {
   "display_name": "Python 3",
   "language": "python",
   "name": "python3"
  },
  "language_info": {
   "codemirror_mode": {
    "name": "ipython",
    "version": 3
   },
   "file_extension": ".py",
   "mimetype": "text/x-python",
   "name": "python",
   "nbconvert_exporter": "python",
   "pygments_lexer": "ipython3",
   "version": "3.12.3"
  }
 },
 "nbformat": 4,
 "nbformat_minor": 5
}
