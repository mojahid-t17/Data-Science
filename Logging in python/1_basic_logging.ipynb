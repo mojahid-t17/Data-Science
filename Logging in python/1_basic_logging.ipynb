{
 "cells": [
  {
   "cell_type": "markdown",
   "id": "e33ba58d",
   "metadata": {},
   "source": [
    "logging is a crucial aspect of any application, providing a way to track events, error and operational information. Python's build-in module offers flexible framework for emitting message from python programs. "
   ]
  },
  {
   "cell_type": "code",
   "execution_count": null,
   "id": "2cfa0dc0",
   "metadata": {},
   "outputs": [],
   "source": [
    "import logging\n",
    "# #configuring logging \n",
    "logging.basicConfig(level=logging.DEBUG,\n",
    "                    filename='app.log',filemode='w',\n",
    "                    format='%(asctime)s-%(name)s-%(levelname)s-%(message)s',\n",
    "                    datefmt='%Y-%m-%d  %H:%M:%S',\n",
    "                    )"
   ]
  },
  {
   "cell_type": "code",
   "execution_count": 4,
   "id": "4baff63b",
   "metadata": {},
   "outputs": [],
   "source": [
    "# # logging message with different levels\n",
    "logging.debug('this is a debug message')\n",
    "logging.info('this is a info message')\n",
    "logging.warning('this is a warning message')\n",
    "logging.error('this is a error message')\n"
   ]
  },
  {
   "cell_type": "markdown",
   "id": "25c01f93",
   "metadata": {},
   "source": [
    "### Logging levels\n",
    "* DEBUG: detailed information, typically of interests only when diagnosing problems\n",
    "* INFO: confirmation that things are working expected\n",
    "* WARNING: an indication that something unexpected heppened or indicative of some problems near future. the software still working as expected.\n",
    "* ERROR:  due to a more serious problem , the software has not been able to perform some function.\n",
    "* CRITICAL: A very serious error, indicating that the program itself may be unable to continue running "
   ]
  }
 ],
 "metadata": {
  "kernelspec": {
   "display_name": "Python 3",
   "language": "python",
   "name": "python3"
  },
  "language_info": {
   "codemirror_mode": {
    "name": "ipython",
    "version": 3
   },
   "file_extension": ".py",
   "mimetype": "text/x-python",
   "name": "python",
   "nbconvert_exporter": "python",
   "pygments_lexer": "ipython3",
   "version": "3.12.3"
  }
 },
 "nbformat": 4,
 "nbformat_minor": 5
}
