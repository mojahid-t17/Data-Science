{
 "cells": [
  {
   "cell_type": "markdown",
   "id": "ffb39e6e",
   "metadata": {},
   "source": [
    "- Interential statistics --> conclusions about a population based on a sample\n",
    "    * Hypothesis testing:  sample data---> conclusions about a population \n",
    "- Hypothesis testing mechanism:\n",
    "   - null hypothesis (H0): the assumption you are begin with. LIke: a person is not guilty when he is in court\n",
    "   - alternative hypothesis (H1): the opposite of the null hypothesis. Like: a person is guilty when he is in court\n",
    "   - experiment: collect data and analyze it\n",
    "   - conclusion: reject or fail to reject the null hypothesis"
   ]
  },
  {
   "cell_type": "markdown",
   "id": "ef4a52f0",
   "metadata": {},
   "source": [
    "* Hypothesis testing:\n",
    "  - Z-test: when the population standard deviation is known\n",
    "  - T-test: when the population standard deviation is unknown\n",
    "  - ANOVA: when comparing more than two groups\n",
    "  - Chi-square test: for categorical data\n",
    "- Steps in hypothesis testing:\n",
    "  1. State the null and alternative hypotheses\n",
    "  2. Choose a significance level (alpha), commonly set at 0.05\n",
    "  3. Collect data and calculate the test statistic\n",
    "  4. Determine the p-value or critical value\n",
    "  5. Make a decision: reject or fail to reject the null hypothesis\n",
    "   \n",
    "- p value: the probability of observing the data, or something more extreme, if the null hypothesis is true\n",
    "   - If p-value <= alpha: reject the null hypothesis\n",
    "   - If p-value > alpha: fail to reject the null hypothesis\n",
    "- Type I error: rejecting the null hypothesis when it is true (false positive)\n",
    "- Type II error: failing to reject the null hypothesis when it is false (false negative)\n",
    "- Power of a test: the probability of correctly rejecting the null hypothesis when it is false (1 - Type II error)\n",
    "- Effect size: a measure of the strength of the relationship between two variables or the magnitude of the difference between groups\n",
    "\n"
   ]
  }
 ],
 "metadata": {
  "language_info": {
   "name": "python"
  }
 },
 "nbformat": 4,
 "nbformat_minor": 5
}
