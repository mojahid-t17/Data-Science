{
 "cells": [
  {
   "cell_type": "markdown",
   "id": "82e9bb25",
   "metadata": {},
   "source": [
    "### Assignment 1: Creating and Connecting to a Database\n",
    "\n",
    "1. Write a Python function to create a new SQLite3 database named `test.db`.\n",
    "2. Write a Python function to create a table named `employees` with columns `id` (integer), `name` (text), `age` (integer), and `department` (text) in the `test.db` database.\n"
   ]
  },
  {
   "cell_type": "code",
   "execution_count": 1,
   "id": "c79be000",
   "metadata": {},
   "outputs": [],
   "source": [
    "import sqlite3"
   ]
  },
  {
   "cell_type": "code",
   "execution_count": 2,
   "id": "33e347b5",
   "metadata": {},
   "outputs": [
    {
     "data": {
      "text/plain": [
       "<sqlite3.Connection at 0x286f1442200>"
      ]
     },
     "execution_count": 2,
     "metadata": {},
     "output_type": "execute_result"
    }
   ],
   "source": [
    "connection=sqlite3.connect('test-db')\n",
    "connection"
   ]
  },
  {
   "cell_type": "code",
   "execution_count": 3,
   "id": "b9a4b851",
   "metadata": {},
   "outputs": [],
   "source": [
    "cursor=connection.cursor()"
   ]
  },
  {
   "cell_type": "code",
   "execution_count": 4,
   "id": "fa33c5b8",
   "metadata": {},
   "outputs": [],
   "source": [
    "cursor.execute('''\n",
    "               Create Table If Not Exists employees(\n",
    "                   Id Integer Primary Key,\n",
    "                   name Text Not null,\n",
    "                   age Integer,\n",
    "                   department Text\n",
    "               )\n",
    "               ''')\n",
    "\n",
    "connection.commit()"
   ]
  },
  {
   "cell_type": "markdown",
   "id": "875b7f0c",
   "metadata": {},
   "source": [
    "### Assignment 2: Inserting Data\n",
    "\n",
    "1. Write a Python function to insert a new employee into the `employees` table.\n",
    "2. Insert at least 5 different employees into the `employees` table."
   ]
  },
  {
   "cell_type": "code",
   "execution_count": 5,
   "id": "144db400",
   "metadata": {},
   "outputs": [],
   "source": [
    "def InsertEmloyee(emloye_data):\n",
    "    cursor.executemany('''\n",
    "                       Insert Into employees ('name','age','department')\n",
    "                       values(?,?,?)\n",
    "                       ''',emloye_data)\n",
    "    connection.commit()"
   ]
  },
  {
   "cell_type": "code",
   "execution_count": 6,
   "id": "a89ead0a",
   "metadata": {},
   "outputs": [],
   "source": [
    "employee_data=[\n",
    "    ('adolf',45,'physics'),\n",
    "    ('neuton',75,'bangla'),\n",
    "    ('thomas',45,'english'),\n",
    "    ('jery',23,'english'),\n",
    "    ('mark',49,'math')\n",
    "]\n",
    "InsertEmloyee(employee_data)"
   ]
  },
  {
   "cell_type": "markdown",
   "id": "40441329",
   "metadata": {},
   "source": [
    "### Assignment 3: Querying Data\n",
    "\n",
    "1. Write a Python function to fetch and display all records from the `employees` table.\n",
    "2. Write a Python function to fetch and display all employees from a specific department."
   ]
  },
  {
   "cell_type": "code",
   "execution_count": 15,
   "id": "bb2ca26c",
   "metadata": {},
   "outputs": [
    {
     "name": "stdout",
     "output_type": "stream",
     "text": [
      "(1, 'adolf', 45, 'physics')\n",
      "(2, 'neuton', 75, 'bangla')\n",
      "(3, 'thomas', 45, 'english')\n",
      "(4, 'jery', 23, 'english')\n",
      "(5, 'mark', 49, 'math')\n"
     ]
    }
   ],
   "source": [
    "def DisplayEmployee():\n",
    "    cursor.execute('''\n",
    "                     Select * from employees\n",
    "                   ''')\n",
    "    rows=cursor.fetchall()\n",
    "    for row in rows:\n",
    "        print(row)\n",
    "\n",
    "DisplayEmployee()"
   ]
  },
  {
   "cell_type": "code",
   "execution_count": 20,
   "id": "4de6844c",
   "metadata": {},
   "outputs": [
    {
     "name": "stdout",
     "output_type": "stream",
     "text": [
      "(3, 'thomas', 45, 'english')\n",
      "(4, 'jery', 23, 'english')\n"
     ]
    }
   ],
   "source": [
    "def DeptEmployee(dept):\n",
    "    cursor.execute('''\n",
    "                   Select * From employees where department=?''', (dept,))\n",
    "    \n",
    "    rows=cursor.fetchall()\n",
    "    for row in rows:\n",
    "        print(row)\n",
    "\n",
    "DeptEmployee('english')"
   ]
  },
  {
   "cell_type": "markdown",
   "id": "170aa845",
   "metadata": {},
   "source": [
    "### Assignment 4: Updating Data\n",
    "\n",
    "1. Write a Python function to update the department of an employee based on their `id`.\n",
    "2. Update the department of at least 2 employees and display the updated records."
   ]
  },
  {
   "cell_type": "code",
   "execution_count": 39,
   "id": "75c593d6",
   "metadata": {},
   "outputs": [],
   "source": [
    "def updateDep(id):\n",
    "    cursor.execute('''\n",
    "                    Update employees\n",
    "                    set department='Mathematics' \n",
    "                    where id=?\n",
    "                   ''',(id,))\n",
    "    connection.commit()"
   ]
  },
  {
   "cell_type": "code",
   "execution_count": 41,
   "id": "b481b73a",
   "metadata": {},
   "outputs": [],
   "source": [
    "id=2\n",
    "updateDep(id)"
   ]
  },
  {
   "cell_type": "code",
   "execution_count": 42,
   "id": "165826bf",
   "metadata": {},
   "outputs": [
    {
     "name": "stdout",
     "output_type": "stream",
     "text": [
      "(1, 'adolf', 45, 'physics')\n",
      "(2, 'neuton', 75, 'Mathematics')\n",
      "(3, 'thomas', 45, 'english')\n",
      "(4, 'jery', 23, 'english')\n",
      "(5, 'mark', 49, 'Mathematics')\n"
     ]
    }
   ],
   "source": [
    "cursor.execute('''\n",
    "                Select * from employees\n",
    "               ''')\n",
    "rows=cursor.fetchall()\n",
    "for row in rows:\n",
    "    print(row)"
   ]
  },
  {
   "cell_type": "code",
   "execution_count": null,
   "id": "238f787a",
   "metadata": {},
   "outputs": [],
   "source": []
  }
 ],
 "metadata": {
  "kernelspec": {
   "display_name": "Python 3",
   "language": "python",
   "name": "python3"
  },
  "language_info": {
   "codemirror_mode": {
    "name": "ipython",
    "version": 3
   },
   "file_extension": ".py",
   "mimetype": "text/x-python",
   "name": "python",
   "nbconvert_exporter": "python",
   "pygments_lexer": "ipython3",
   "version": "3.12.3"
  }
 },
 "nbformat": 4,
 "nbformat_minor": 5
}
