{
 "cells": [
  {
   "cell_type": "markdown",
   "id": "47cb120c",
   "metadata": {},
   "source": [
    "sql is the standard language for managing and manipulating relational database. \n",
    "sqlite is the self contained , serverless, and zero-configuration database engine that is \n",
    "widely used for embedded database system."
   ]
  },
  {
   "cell_type": "code",
   "execution_count": 36,
   "id": "65272df8",
   "metadata": {},
   "outputs": [],
   "source": [
    "import sqlite3"
   ]
  },
  {
   "cell_type": "code",
   "execution_count": 37,
   "id": "1713129b",
   "metadata": {},
   "outputs": [
    {
     "data": {
      "text/plain": [
       "<sqlite3.Connection at 0x1ded74c2c50>"
      ]
     },
     "execution_count": 37,
     "metadata": {},
     "output_type": "execute_result"
    }
   ],
   "source": [
    "#connect the sqlite database\n",
    "connection=sqlite3.connect('exampleDb')\n",
    "connection"
   ]
  },
  {
   "cell_type": "code",
   "execution_count": 20,
   "id": "2dcfd531",
   "metadata": {},
   "outputs": [],
   "source": [
    "cursor=connection.cursor()"
   ]
  },
  {
   "cell_type": "code",
   "execution_count": 21,
   "id": "1324fdac",
   "metadata": {},
   "outputs": [],
   "source": [
    "#create a table in the database\n",
    "cursor.execute(\n",
    "   '''\n",
    "     Create Table If Not Exists students (\n",
    "         id Integer Primary Key,\n",
    "         name Text Not Null,\n",
    "         age Integer,\n",
    "         department Text\n",
    "     )\n",
    "    '''\n",
    ")\n",
    "#commit the changes\n",
    "connection.commit()"
   ]
  },
  {
   "cell_type": "code",
   "execution_count": 22,
   "id": "532609c8",
   "metadata": {},
   "outputs": [
    {
     "data": {
      "text/plain": [
       "<sqlite3.Cursor at 0x1ded76b79c0>"
      ]
     },
     "execution_count": 22,
     "metadata": {},
     "output_type": "execute_result"
    }
   ],
   "source": [
    "cursor.execute(\n",
    "    ''' \n",
    "      Select * from students\n",
    "    '''\n",
    ")"
   ]
  },
  {
   "cell_type": "code",
   "execution_count": 23,
   "id": "a9a56676",
   "metadata": {},
   "outputs": [],
   "source": [
    "#insert into database\n",
    "cursor.execute(\n",
    "    ''' \n",
    "     Insert Into students(name,age,department) \n",
    "       values('Mojahid',23,'CSE')\n",
    "    '''\n",
    ")\n",
    "cursor.execute(\n",
    "    ''' \n",
    "     Insert Into students(name,age,department) \n",
    "       values('Arif',25,'EEE')\n",
    "    '''\n",
    ")\n",
    "connection.commit()"
   ]
  },
  {
   "cell_type": "code",
   "execution_count": 24,
   "id": "6dc31e41",
   "metadata": {},
   "outputs": [
    {
     "name": "stdout",
     "output_type": "stream",
     "text": [
      "(1, 'Mojahid', 23, 'CSE')\n",
      "(2, 'Arif', 29, 'EEE')\n",
      "(3, 'Tamim', 23, 'BBA')\n",
      "(4, 'Mojahid', 23, 'CSE')\n",
      "(5, 'Arif', 25, 'EEE')\n"
     ]
    }
   ],
   "source": [
    "#query to get the data \n",
    "cursor.execute(''' Select * from students ''')\n",
    "rows=cursor.fetchall()\n",
    "for row in rows:\n",
    "    print(row)\n"
   ]
  },
  {
   "cell_type": "code",
   "execution_count": 25,
   "id": "8d4bde80",
   "metadata": {},
   "outputs": [],
   "source": [
    "#update data\n",
    "cursor.execute('''\n",
    "                Update  students\n",
    "                set age=29\n",
    "                where name='Arif'\n",
    "               ''')\n",
    "\n",
    "connection.commit()"
   ]
  },
  {
   "cell_type": "code",
   "execution_count": 26,
   "id": "d36d11b1",
   "metadata": {},
   "outputs": [
    {
     "name": "stdout",
     "output_type": "stream",
     "text": [
      "(1, 'Mojahid', 23, 'CSE')\n",
      "(2, 'Arif', 29, 'EEE')\n",
      "(3, 'Tamim', 23, 'BBA')\n",
      "(4, 'Mojahid', 23, 'CSE')\n",
      "(5, 'Arif', 29, 'EEE')\n"
     ]
    }
   ],
   "source": [
    "#query to get the data \n",
    "cursor.execute(''' Select * from students ''')\n",
    "rows=cursor.fetchall()\n",
    "for row in rows:\n",
    "    print(row)"
   ]
  },
  {
   "cell_type": "code",
   "execution_count": 52,
   "id": "905b873d",
   "metadata": {},
   "outputs": [],
   "source": [
    "#delete from table\n",
    "\n",
    "cursor.execute('''\n",
    "               Delete From students \n",
    "                where id=4\n",
    "               ''')\n",
    "\n",
    "connection.commit()"
   ]
  },
  {
   "cell_type": "code",
   "execution_count": 53,
   "id": "58bd7ebb",
   "metadata": {},
   "outputs": [
    {
     "name": "stdout",
     "output_type": "stream",
     "text": [
      "(1, 'Mojahid', 23, 'CSE')\n",
      "(2, 'Arif', 29, 'EEE')\n",
      "(5, 'Arif', 29, 'EEE')\n"
     ]
    }
   ],
   "source": [
    "#query to get the data \n",
    "cursor.execute(''' Select * from students ''')\n",
    "rows=cursor.fetchall()\n",
    "for row in rows:\n",
    "    print(row)"
   ]
  },
  {
   "cell_type": "code",
   "execution_count": 29,
   "id": "6ed70b8c",
   "metadata": {},
   "outputs": [],
   "source": [
    "#product table\n",
    "cursor.execute('''\n",
    "               Create Table If Not Exists sales\n",
    "               (\n",
    "                   id Integer Primary Key,\n",
    "                   date Text,\n",
    "                   name Text,\n",
    "                   price Integer\n",
    "               )\n",
    "               ''')\n",
    "\n",
    "connection.commit()"
   ]
  },
  {
   "cell_type": "code",
   "execution_count": 30,
   "id": "479f43ec",
   "metadata": {},
   "outputs": [],
   "source": [
    "sales_data=[\n",
    "    ('10-12-23','orange',500),\n",
    "    ('10-12-23','apple',400),\n",
    "    ('10-12-23','banana',200),\n",
    "    ('10-12-23','pinaple',100),\n",
    "    \n",
    "]"
   ]
  },
  {
   "cell_type": "code",
   "execution_count": 31,
   "id": "2fe0c33e",
   "metadata": {},
   "outputs": [],
   "source": [
    "cursor.executemany('''\n",
    "                       \n",
    "                       Insert into sales('date','name','price')\n",
    "                       values(?,?,?)\n",
    "                       ''',sales_data)\n",
    "\n",
    "connection.commit()"
   ]
  },
  {
   "cell_type": "code",
   "execution_count": 66,
   "id": "f8322d28",
   "metadata": {},
   "outputs": [],
   "source": [
    "cursor.execute('''\n",
    "               Delete From sales \n",
    "                where id=6\n",
    "               ''')\n",
    "\n",
    "connection.commit()"
   ]
  },
  {
   "cell_type": "code",
   "execution_count": 67,
   "id": "8e9963e4",
   "metadata": {},
   "outputs": [
    {
     "name": "stdout",
     "output_type": "stream",
     "text": [
      "(1, '10-12-23', 'orange', 500)\n",
      "(2, '10-12-23', 'apple', 400)\n",
      "(3, '10-12-23', 'banana', 200)\n",
      "(4, '10-12-23', 'pinaple', 100)\n",
      "(5, '10-12-23', 'orange', 500)\n"
     ]
    }
   ],
   "source": [
    "#query to get the data \n",
    "cursor.execute(''' Select * from sales ''')\n",
    "rows=cursor.fetchall()\n",
    "for row in rows:\n",
    "    print(row)"
   ]
  },
  {
   "cell_type": "code",
   "execution_count": null,
   "id": "77e41c54",
   "metadata": {},
   "outputs": [],
   "source": []
  }
 ],
 "metadata": {
  "kernelspec": {
   "display_name": "Python 3",
   "language": "python",
   "name": "python3"
  },
  "language_info": {
   "codemirror_mode": {
    "name": "ipython",
    "version": 3
   },
   "file_extension": ".py",
   "mimetype": "text/x-python",
   "name": "python",
   "nbconvert_exporter": "python",
   "pygments_lexer": "ipython3",
   "version": "3.12.3"
  }
 },
 "nbformat": 4,
 "nbformat_minor": 5
}
