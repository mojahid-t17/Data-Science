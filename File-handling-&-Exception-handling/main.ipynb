{
 "cells": [
  {
   "cell_type": "markdown",
   "id": "31aa7fec",
   "metadata": {},
   "source": [
    "# File Handling & Exception Handling in Python\n",
    "\n",
    "---\n",
    "\n",
    "## 📚 Learning Objectives\n",
    "\n",
    "By the end of this session, you will be able to:\n",
    "\n",
    "🎯 **File Operations**\n",
    "- Read and write text files using different methods\n",
    "- Handle binary files effectively\n",
    "- Understand file modes and their applications\n",
    "\n",
    "🎯 **File Path Management**\n",
    "- Navigate and manipulate file paths across different operating systems\n",
    "- Use Python's `os` module for file system operations\n",
    "- Check file/directory existence and properties\n",
    "\n",
    "🎯 **Exception Handling**\n",
    "- Understand what exceptions are and why they occur\n",
    "- Use try-except blocks to handle errors gracefully\n",
    "- Implement finally blocks for cleanup operations\n",
    "- Combine file handling with proper exception handling\n",
    "\n",
    "---\n",
    "\n",
    "## 📖 Table of Contents\n",
    "\n",
    "1. [File Operations - Reading & Writing Files](#file-operations)\n",
    "2. [Working with File Paths](#file-paths)\n",
    "3. [Exception Handling](#exception-handling)\n",
    "4. [Practical Exercises](#exercises)\n",
    "5. [Summary & Next Steps](#summary)\n",
    "\n",
    "---\n"
   ]
  },
  {
   "cell_type": "markdown",
   "id": "2fea0c5c",
   "metadata": {},
   "source": [
    "# 📁 File Operations - Reading & Writing Files\n",
    "\n",
    "File handling is a fundamental skill in programming! Think of it like learning to read and write documents on your computer, but through code. \n",
    "\n",
    "## 🤔 Why File Handling Matters\n",
    "\n",
    "Imagine you're building an app that needs to:\n",
    "- 💾 Save user preferences\n",
    "- 📊 Read data from spreadsheets\n",
    "- 📝 Create log files\n",
    "- 🖼️ Process images or documents\n",
    "\n",
    "All of these require file handling!\n",
    "\n",
    "---\n",
    "\n",
    "## 🔍 Understanding File Modes\n",
    "\n",
    "Before we dive in, let's understand the different ways we can open files:\n",
    "\n",
    "| Mode | Symbol | What it does | Example Use Case |\n",
    "|------|--------|--------------|------------------|\n",
    "| **Read** | `'r'` | Opens file for reading only | Reading a configuration file |\n",
    "| **Write** | `'w'` | Opens file for writing (overwrites existing content) | Creating a new report |\n",
    "| **Append** | `'a'` | Opens file for writing (adds to end of file) | Adding entries to a log file |\n",
    "| **Read+Write** | `'r+'` | Opens file for both reading and writing | Updating a database file |\n",
    "| **Write+Read** | `'w+'` | Creates new file for reading and writing | Creating and immediately processing a file |\n",
    "| **Binary** | `'b'` | Used with other modes for binary files | `'rb'`, `'wb'` for images, videos |\n",
    "\n",
    "---\n"
   ]
  },
  {
   "cell_type": "markdown",
   "id": "a9c8937e",
   "metadata": {},
   "source": [
    "## 📖 Reading Files\n",
    "\n",
    "### Method 1: Read the Entire File at Once\n",
    "\n",
    "This is like opening a book and reading the whole thing in one go!\n"
   ]
  },
  {
   "cell_type": "code",
   "execution_count": 6,
   "id": "080252d4",
   "metadata": {},
   "outputs": [
    {
     "name": "stdout",
     "output_type": "stream",
     "text": [
      "sample.txt file created success!! \n"
     ]
    }
   ],
   "source": [
    "# First, let's create a sample file to work with\n",
    "with open('sample.txt','w') as file:\n",
    "    file.write('Hello! Welcome to Python file handling!\\n')\n",
    "    file.write('This is line 2 of our sample file.\\n')\n",
    "    file.write('Learning Python is fun and exciting!\\n')\n",
    "    file.write(\"Keep practicing and you'll master it!\\n\")\n",
    "    \n",
    "print('sample.txt file created success!! ')"
   ]
  },
  {
   "cell_type": "code",
   "execution_count": 7,
   "id": "1eb2ce2e",
   "metadata": {},
   "outputs": [
    {
     "name": "stdout",
     "output_type": "stream",
     "text": [
      "📄 Complete file content:\n",
      "------------------------------\n",
      "total length of file:  150\n",
      "------------------------------\n"
     ]
    }
   ],
   "source": [
    "# Now let's read the entire file at once\n",
    "with open('sample.txt','r') as file:\n",
    "    content= file.read()\n",
    "    print(\"📄 Complete file content:\")\n",
    "    print('-'*30)\n",
    "    print('total length of file: ',len(content))\n",
    "    print('-'*30)"
   ]
  },
  {
   "cell_type": "markdown",
   "id": "97e9242a",
   "metadata": {},
   "source": [
    "### Method 2: Read Line by Line\n",
    "\n",
    "This is like reading a book one line at a time - perfect for large files!\n"
   ]
  },
  {
   "cell_type": "code",
   "execution_count": 15,
   "id": "16a77791",
   "metadata": {},
   "outputs": [
    {
     "name": "stdout",
     "output_type": "stream",
     "text": [
      "📃 Reading line by line:\n",
      "------------------------------\n",
      "1:Hello! Welcome to Python file handling!\n",
      "2:This is line 2 of our sample file.\n",
      "3:Learning Python is fun and exciting!\n",
      "4:Keep practicing and you'll master it!\n",
      "total line:  5\n",
      "------------------------------\n",
      "💡 Notice how we process each line individually!\n"
     ]
    }
   ],
   "source": [
    "# Reading file line by line\n",
    "print(\"📃 Reading line by line:\")\n",
    "print(\"-\" * 30)\n",
    "\n",
    "with open('sample.txt','r') as file:\n",
    "    line_numbers=1\n",
    "    for line in file:\n",
    "        # print(line)\n",
    "        clean_line=line.strip()\n",
    "        # strip() removes the newline character at the end\n",
    "        print(f\"{line_numbers}:{clean_line}\")\n",
    "        line_numbers+=1\n",
    "    print(\"total line: \",line_numbers)\n",
    "print(\"-\" * 30)\n",
    "print(\"💡 Notice how we process each line individually!\")"
   ]
  },
  {
   "cell_type": "markdown",
   "id": "7b681112",
   "metadata": {},
   "source": [
    "## ✍️ Writing to Files\n",
    "\n",
    "### Method 1: Writing (Overwrite Mode)\n",
    "\n",
    "⚠️ **Important**: The `'w'` mode will completely replace the file content!\n"
   ]
  },
  {
   "cell_type": "code",
   "execution_count": 16,
   "id": "96f1d404",
   "metadata": {},
   "outputs": [
    {
     "name": "stdout",
     "output_type": "stream",
     "text": [
      "✅ New file created with write mode!\n",
      "\n",
      "📄 Content of new_file.txt:\n",
      "Hello World!\n",
      "This is a new line created with Python.\n",
      "File writing is powerful!\n",
      "\n"
     ]
    }
   ],
   "source": [
    "# Writing to a file (this will overwrite existing content)\n",
    "with open('new_file.txt', 'w') as file:\n",
    "    file.write('Hello World!\\n')\n",
    "    file.write('This is a new line created with Python.\\n')\n",
    "    file.write('File writing is powerful!\\n')\n",
    "\n",
    "print(\"✅ New file created with write mode!\")\n",
    "\n",
    "# Let's read it back to confirm\n",
    "with open('new_file.txt', 'r') as file:\n",
    "    content = file.read()\n",
    "    print(\"\\n📄 Content of new_file.txt:\")\n",
    "    print(content)\n"
   ]
  },
  {
   "cell_type": "markdown",
   "id": "b2598e5b",
   "metadata": {},
   "source": [
    "### Method 2: Appending to Files\n",
    "\n",
    "Think of append mode as adding new pages to the end of a book without removing existing pages!"
   ]
  },
  {
   "cell_type": "code",
   "execution_count": 17,
   "id": "384febb2",
   "metadata": {},
   "outputs": [
    {
     "name": "stdout",
     "output_type": "stream",
     "text": [
      "📋 Before appending:\n",
      "Hello World!\n",
      "This is a new line created with Python.\n",
      "File writing is powerful!\n",
      "\n",
      "\n",
      "📋 After appending:\n",
      "Hello World!\n",
      "This is a new line created with Python.\n",
      "File writing is powerful!\n",
      "This line was appended!\n",
      "And so was this one!\n",
      "Append mode preserves existing content!\n",
      "\n"
     ]
    }
   ],
   "source": [
    "# Appending to a file (adds content without removing existing content)\n",
    "print(\"📋 Before appending:\")\n",
    "with open('new_file.txt', 'r') as file:\n",
    "    print(file.read())\n",
    "\n",
    "# Now let's append some content\n",
    "with open('new_file.txt', 'a') as file:\n",
    "    file.write(\"This line was appended!\\n\")\n",
    "    file.write(\"And so was this one!\\n\")\n",
    "    file.write(\"Append mode preserves existing content!\\n\")\n",
    "\n",
    "print(\"\\n📋 After appending:\")\n",
    "with open('new_file.txt', 'r') as file:\n",
    "    print(file.read())\n"
   ]
  },
  {
   "cell_type": "markdown",
   "id": "fa319a7e",
   "metadata": {},
   "source": [
    "### Method 3: Writing Multiple Lines at Once\n",
    "\n",
    "Sometimes you have a list of things to write - Python makes this easy!\n"
   ]
  },
  {
   "cell_type": "code",
   "execution_count": 18,
   "id": "c25d6212",
   "metadata": {},
   "outputs": [
    {
     "name": "stdout",
     "output_type": "stream",
     "text": [
      "🛒 Shopping list created!\n"
     ]
    }
   ],
   "source": [
    "# Writing multiple lines using a list\n",
    "shopping_list = [\n",
    "    \"🍎 Apples\\n\",\n",
    "    \"🍌 Bananas\\n\", \n",
    "    \"🥛 Milk\\n\",\n",
    "    \"🍞 Bread\\n\",\n",
    "    \"🧀 Cheese\\n\"\n",
    "]\n",
    "# Write the shopping list to a file with UTF-8 encoding\n",
    "with open(\"shopping_list.txt\", \"w\", encoding='utf-8') as file:\n",
    "    file.writelines(shopping_list)\n",
    "\n",
    "print(\"🛒 Shopping list created!\")"
   ]
  },
  {
   "cell_type": "markdown",
   "id": "12ac490b",
   "metadata": {},
   "source": [
    "## 🔢 Working with Binary Files\n",
    "\n",
    "Binary files contain data in a format that isn't human-readable (like images, videos, or executables). Let's see how to handle them:\n"
   ]
  },
  {
   "cell_type": "code",
   "execution_count": 19,
   "id": "022f2f64",
   "metadata": {},
   "outputs": [
    {
     "name": "stdout",
     "output_type": "stream",
     "text": [
      "🔢 Working with binary files:\n",
      "✅ Binary file created!\n"
     ]
    }
   ],
   "source": [
    "# Working with binary data\n",
    "print(\"🔢 Working with binary files:\")\n",
    "\n",
    "# Creating some binary data (these are raw bytes)\n",
    "binary_data = b\"Hello\"  # This spells \"Hello\" in ASCII\n",
    "\n",
    "# Writing to a binary file\n",
    "with open('example.bin', 'wb') as file:\n",
    "    file.write(binary_data)\n",
    "\n",
    "print(\"✅ Binary file created!\")"
   ]
  },
  {
   "cell_type": "markdown",
   "id": "f917c836",
   "metadata": {},
   "source": [
    "## 🔄 Advanced File Operations\n",
    "\n",
    "### File Copying Made Easy\n"
   ]
  },
  {
   "cell_type": "code",
   "execution_count": 2,
   "id": "b791ac62",
   "metadata": {},
   "outputs": [
    {
     "name": "stdout",
     "output_type": "stream",
     "text": [
      "📋 File copying example:\n",
      "✅ File copied successfully!\n"
     ]
    }
   ],
   "source": [
    "# Copying a file from source to destination\n",
    "print(\"📋 File copying example:\")\n",
    "\n",
    "with open('sample.txt','r') as source:\n",
    "    content=source.read()\n",
    "\n",
    "with open('Destination.txt','w') as destination:\n",
    "    destination.write(content)\n",
    "\n",
    "\n",
    "print(\"✅ File copied successfully!\")\n",
    "    "
   ]
  },
  {
   "cell_type": "markdown",
   "id": "09da0940",
   "metadata": {},
   "source": [
    "### File Statistics Function\n",
    "\n",
    "Let's create a function that analyzes text files - this is super useful for data analysis!"
   ]
  },
  {
   "cell_type": "code",
   "execution_count": 37,
   "id": "86c9fb32",
   "metadata": {},
   "outputs": [
    {
     "name": "stdout",
     "output_type": "stream",
     "text": [
      "6 9 43\n"
     ]
    }
   ],
   "source": [
    "# Create a function to analyze text files\n",
    "def analyze_text_file(file_path):\n",
    "    \"\"\"\n",
    "    Analyzes a text file and returns statistics about it.\n",
    "    \n",
    "    Args:\n",
    "        file_path (str): Path to the text file\n",
    "        \n",
    "    Returns:\n",
    "        tuple: (line_count, word_count, character_count)\n",
    "    \"\"\"\n",
    "    with open(file_path,'r') as file:\n",
    "        lines=file.readlines()\n",
    "        line_count =len(lines)\n",
    "        total_word=0\n",
    "        total_character=0\n",
    "        # print(line_count)\n",
    "        # print(lines)\n",
    "        for line in lines:\n",
    "            # print(line.split())\n",
    "            total_word+=len(line.split())\n",
    "            total_character+=len(line.strip())\n",
    "            \n",
    "            \n",
    "            \n",
    "        return line_count,total_word,total_character\n",
    "            \n",
    "\n",
    "line,word,character=analyze_text_file('name.txt')\n",
    "print(line,word,character)"
   ]
  },
  {
   "cell_type": "markdown",
   "id": "70b7ca93",
   "metadata": {},
   "source": [
    "### Read and Write Mode (w+)\n",
    "\n",
    "The `w+` mode is special - it creates a new file for both reading and writing!\n"
   ]
  },
  {
   "cell_type": "code",
   "execution_count": 48,
   "id": "17b76b56",
   "metadata": {},
   "outputs": [
    {
     "name": "stdout",
     "output_type": "stream",
     "text": [
      "📝 Demonstrating w+ mode:\n",
      "✅ Content written to file\n",
      "\n",
      "📄 Content we just wrote:\n",
      "Hello from w+ mode! 🚀\n",
      "We can write and read in the same operation.\n",
      "This is pretty cool! 😎\n",
      "\n",
      "📍 Current cursor position: 99\n",
      "\n",
      "💡 The w+ mode is perfect when you need to create, write, and immediately process a file!\n"
     ]
    }
   ],
   "source": [
    "# Using w+ mode for reading and writing\n",
    "print(\"📝 Demonstrating w+ mode:\")\n",
    "\n",
    "with open('temp_file.txt', 'w+', encoding=\"utf-8\") as file:\n",
    "    # First, let's write some content\n",
    "    file.write(\"Hello from w+ mode! 🚀\\n\")\n",
    "    file.write(\"We can write and read in the same operation.\\n\")\n",
    "    file.write(\"This is pretty cool! 😎\\n\")\n",
    "    \n",
    "    print(\"✅ Content written to file\")\n",
    "    \n",
    "    # Move the file cursor to the beginning to read\n",
    "    file.seek(0)  # This is crucial - moves cursor to start\n",
    "    \n",
    "    # Now read the content we just wrote\n",
    "    content = file.read()\n",
    "    print(\"\\n📄 Content we just wrote:\")\n",
    "    print(content)\n",
    "    \n",
    "    # Let's also check the current cursor position\n",
    "    print(f\"📍 Current cursor position: {file.tell()}\")\n",
    "\n",
    "print(\"\\n💡 The w+ mode is perfect when you need to create, write, and immediately process a file!\")"
   ]
  },
  {
   "cell_type": "markdown",
   "id": "83ecaafd",
   "metadata": {},
   "source": [
    "# 🗺️ Working with File Paths\n",
    "\n",
    "Think of file paths like addresses for your files! Just like you need an address to find a house, you need a path to find a file on your computer.\n",
    "\n",
    "## 🌐 Why File Paths Matter\n",
    "\n",
    "Different operating systems handle paths differently:\n",
    "- **Windows**: Uses backslashes `\\` (e.g., `C:\\Users\\John\\Documents\\file.txt`)\n",
    "- **Mac/Linux**: Uses forward slashes `/` (e.g., `/home/john/documents/file.txt`)\n",
    "\n",
    "Python's `os` module helps us work with paths in a way that works on all operating systems! 🎯\n",
    "\n",
    "---\n"
   ]
  },
  {
   "cell_type": "code",
   "execution_count": 50,
   "id": "da82a2bf",
   "metadata": {},
   "outputs": [
    {
     "name": "stdout",
     "output_type": "stream",
     "text": [
      "john\n",
      "devid\n",
      "royal\n",
      "habib khan\n",
      "lotif aslam\n",
      "lal babu\n"
     ]
    }
   ],
   "source": [
    "with open(r'C:\\tareq\\Data-science\\File-handling-&-Exception-handling\\name.txt','r')as file:\n",
    "    print(file.read())"
   ]
  },
  {
   "cell_type": "markdown",
   "id": "b261eff3",
   "metadata": {},
   "source": [
    "## 📍 Finding Your Current Location"
   ]
  },
  {
   "cell_type": "code",
   "execution_count": 53,
   "id": "4a45e9ef",
   "metadata": {},
   "outputs": [
    {
     "name": "stdout",
     "output_type": "stream",
     "text": [
      "📂 Current working directory: c:\\tareq\\Data-science\\File-handling-&-Exception-handling\n",
      "🗂️ Directory parts: ['c:', 'tareq', 'Data-science', 'File-handling-&-Exception-handling']\n"
     ]
    }
   ],
   "source": [
    "import os\n",
    "\n",
    "# Get the current working directory (where your Python script is running)\n",
    "current_directory = os.getcwd()\n",
    "print(f\"📂 Current working directory: {current_directory}\")\n",
    "\n",
    "# This is like asking \"Where am I right now?\" in the file system\n",
    "print(f\"🗂️ Directory parts: {current_directory.split(os.sep)}\")"
   ]
  },
  {
   "cell_type": "markdown",
   "id": "62ea177e",
   "metadata": {},
   "source": [
    "## 📁 Creating Directories\n",
    "\n",
    "Let's create some folders to organize our files!\n"
   ]
  },
  {
   "cell_type": "code",
   "execution_count": 59,
   "id": "ea907ce0",
   "metadata": {},
   "outputs": [
    {
     "name": "stdout",
     "output_type": "stream",
     "text": [
      "ℹ️ Directory 'my_python_files' already exists - that's okay!\n",
      "✅ Nested directory structure 'my_python_files\\projects\\day7' created!\n"
     ]
    }
   ],
   "source": [
    "# Create a new directory\n",
    "new_directory = \"my_python_files\"\n",
    "\n",
    "try:\n",
    "    os.mkdir(new_directory)\n",
    "    print(f\"✅ Directory '{new_directory}' created successfully!\")\n",
    "except FileExistsError:\n",
    "    print(f\"ℹ️ Directory '{new_directory}' already exists - that's okay!\")\n",
    "\n",
    "# Let's also create a nested directory structure\n",
    "nested_path = os.path.join(\"my_python_files\", \"projects\", \"day7\")\n",
    "\n",
    "try:\n",
    "    # makedirs creates all intermediate directories if they don't exist\n",
    "    os.makedirs(nested_path, exist_ok=True)  # exist_ok=True prevents errors if it exists\n",
    "    print(f\"✅ Nested directory structure '{nested_path}' created!\")\n",
    "except Exception as e:\n",
    "    print(f\"❌ Error creating directory: {e}\")"
   ]
  },
  {
   "cell_type": "code",
   "execution_count": 56,
   "id": "62ff1f27",
   "metadata": {},
   "outputs": [],
   "source": [
    "# os.mkdir(\"my_new_folder\")\n",
    "os.makedirs(os.path.join(\"new-folder2\",\"folder1\"))"
   ]
  },
  {
   "cell_type": "markdown",
   "id": "3eb83035",
   "metadata": {},
   "source": [
    "## 📋 Listing Directory Contents\n",
    "\n",
    "Let's explore what's inside our directories!\n"
   ]
  },
  {
   "cell_type": "code",
   "execution_count": 62,
   "id": "c2210781",
   "metadata": {},
   "outputs": [
    {
     "name": "stdout",
     "output_type": "stream",
     "text": [
      "📋 Contents of current directory:\n",
      "----------------------------------------\n",
      "['Destination.txt', 'example.bin', 'main.ipynb', 'my_python_files', 'name.txt', 'new-folder2', 'new.txt', 'new_file.txt', 'sample.txt', 'shopping_list.txt', 'temp_file.txt']\n"
     ]
    }
   ],
   "source": [
    "# List all files and directories in the current directory\n",
    "items=os.listdir('.')\n",
    "print(\"📋 Contents of current directory:\")\n",
    "print(\"-\" * 40)\n",
    "print(items)\n",
    "\n"
   ]
  },
  {
   "cell_type": "code",
   "execution_count": 66,
   "id": "2f12a0ab",
   "metadata": {},
   "outputs": [
    {
     "name": "stdout",
     "output_type": "stream",
     "text": [
      "['Destination.txt', 'example.bin', 'main.ipynb', 'name.txt', 'new.txt', 'new_file.txt', 'sample.txt', 'shopping_list.txt', 'temp_file.txt']\n",
      "['my_python_files', 'new-folder2']\n",
      "--------------------\n",
      "📄 Files: 9\n",
      "📁 Directories: 2\n"
     ]
    }
   ],
   "source": [
    "# # Count files vs directories\n",
    "files=[item for item in items if os.path.isfile(item)]\n",
    "print(files)\n",
    "directories=[item for item in items if os.path.isdir(item)]\n",
    "print(directories)\n",
    "print(\"-\"*20)\n",
    "print(f\"📄 Files: {len(files)}\")\n",
    "print(f\"📁 Directories: {len(directories)}\")\n"
   ]
  },
  {
   "cell_type": "markdown",
   "id": "9c0b23c7",
   "metadata": {},
   "source": [
    "## 🔗 Joining Paths Safely\n",
    "\n",
    "The `os.path.join()` function is your best friend for creating file paths that work on any operating system!"
   ]
  },
  {
   "cell_type": "code",
   "execution_count": 67,
   "id": "20bb6ffa",
   "metadata": {},
   "outputs": [
    {
     "name": "stdout",
     "output_type": "stream",
     "text": [
      "🔗 Path joining examples:\n",
      "==================================================\n",
      "📁 + 📄 = documents\\report.txt\n"
     ]
    }
   ],
   "source": [
    "# Joining paths the right way\n",
    "print(\"🔗 Path joining examples:\")\n",
    "print(\"=\" * 50)\n",
    "folder_name=\"documents\"\n",
    "file_name=\"report.txt\"\n",
    "full_path=os.path.join(folder_name,file_name)\n",
    "\n",
    "print(f\"📁 + 📄 = {full_path}\")"
   ]
  },
  {
   "cell_type": "code",
   "execution_count": 68,
   "id": "6d7cc3c8",
   "metadata": {},
   "outputs": [
    {
     "name": "stdout",
     "output_type": "stream",
     "text": [
      "🗂️ Multi-level path: projects\\python\\day7\\exercises\\solution.py\n"
     ]
    }
   ],
   "source": [
    "# Multiple level path joining\n",
    "project_path = os.path.join(\"projects\", \"python\", \"day7\", \"exercises\", \"solution.py\")\n",
    "print(f\"🗂️ Multi-level path: {project_path}\")"
   ]
  },
  {
   "cell_type": "code",
   "execution_count": 70,
   "id": "01cc7727",
   "metadata": {},
   "outputs": [
    {
     "name": "stdout",
     "output_type": "stream",
     "text": [
      "🏠 Full absolute path: c:\\tareq\\Data-science\\File-handling-&-Exception-handling\\documents\\report.txt\n",
      "📊 Data file path: user_data\\2024\\march\\sales.csv\n",
      "==================================================\n",
      "💡 Notice how os.path.join() automatically uses the correct separator for your OS!\n"
     ]
    }
   ],
   "source": [
    "# Joining with current directory\n",
    "current_file_path = os.path.join(os.getcwd(), folder_name, file_name)\n",
    "print(f\"🏠 Full absolute path: {current_file_path}\")\n",
    "# Working with different path components\n",
    "user_folder = \"user_data\"\n",
    "year = \"2024\"\n",
    "month = \"march\"\n",
    "data_file = \"sales.csv\"\n",
    "\n",
    "data_path = os.path.join(user_folder, year, month, data_file)\n",
    "print(f\"📊 Data file path: {data_path}\")\n",
    "\n",
    "print(\"=\" * 50)\n",
    "print(\"💡 Notice how os.path.join() automatically uses the correct separator for your OS!\")"
   ]
  },
  {
   "cell_type": "code",
   "execution_count": 71,
   "id": "88470d9e",
   "metadata": {},
   "outputs": [
    {
     "name": "stdout",
     "output_type": "stream",
     "text": [
      "🔍 Path existence checking:\n",
      "========================================\n",
      "✅ 📄 'sample.txt' is a file (154 bytes)\n",
      "❌ 'nonexistent.txt' does not exist\n",
      "✅ 📁 'my_python_files' is a directory (1 items)\n",
      "❌ 'imaginary_folder' does not exist\n",
      "✅ 📁 'c:\\tareq\\Data-science\\File-handling-&-Exception-handling' is a directory (11 items)\n",
      "========================================\n"
     ]
    }
   ],
   "source": [
    "# Checking if paths exist\n",
    "print(\"🔍 Path existence checking:\")\n",
    "print(\"=\" * 40)\n",
    "\n",
    "# List of paths to check\n",
    "paths_to_check = [\n",
    "    'sample.txt',           # Should exist (we created it)\n",
    "    'nonexistent.txt',      # Doesn't exist\n",
    "    'my_python_files',      # Directory we created\n",
    "    'imaginary_folder',     # Doesn't exist\n",
    "    os.getcwd()            # Current directory (definitely exists)\n",
    "]\n",
    "\n",
    "for path in paths_to_check:\n",
    "    if os.path.exists(path):\n",
    "        if os.path.isfile(path):\n",
    "            size = os.path.getsize(path)\n",
    "            print(f\"✅ 📄 '{path}' is a file ({size} bytes)\")\n",
    "        elif os.path.isdir(path):\n",
    "            items_count = len(os.listdir(path))\n",
    "            print(f\"✅ 📁 '{path}' is a directory ({items_count} items)\")\n",
    "        else:\n",
    "            print(f\"✅ ❓ '{path}' exists but is neither file nor directory\")\n",
    "    else:\n",
    "        print(f\"❌ '{path}' does not exist\")\n",
    "\n",
    "print(\"=\" * 40)"
   ]
  },
  {
   "cell_type": "code",
   "execution_count": 72,
   "id": "b54ecc4d",
   "metadata": {},
   "outputs": [
    {
     "name": "stdout",
     "output_type": "stream",
     "text": [
      "🗺️ Absolute Path Examples:\n",
      "============================================================\n",
      "📍 Relative path: sample.txt\n",
      "🌍 Absolute path: c:\\tareq\\Data-science\\File-handling-&-Exception-handling\\sample.txt\n",
      "📏 Path length: 67 characters\n"
     ]
    }
   ],
   "source": [
    "# Working with absolute paths\n",
    "print(\"🗺️ Absolute Path Examples:\")\n",
    "print(\"=\" * 60)\n",
    "\n",
    "# Convert relative path to absolute path\n",
    "relative_path = 'sample.txt'\n",
    "absolute_path = os.path.abspath(relative_path)\n",
    "\n",
    "print(f\"📍 Relative path: {relative_path}\")\n",
    "print(f\"🌍 Absolute path: {absolute_path}\")\n",
    "print(f\"📏 Path length: {len(absolute_path)} characters\")\n"
   ]
  },
  {
   "cell_type": "markdown",
   "id": "2e13cb11",
   "metadata": {},
   "source": [
    "# 🚨 Exception Handling in Python\n",
    "\n",
    "Imagine you're driving a car. Sometimes unexpected things happen - a tire goes flat, you run out of gas, or there's construction on your route. Exception handling in Python is like having a plan for these unexpected situations!\n",
    "\n",
    "## 🤔 What Are Exceptions?\n",
    "\n",
    "Exceptions are Python's way of saying \"Something unexpected happened!\" Instead of your program crashing, exceptions allow you to handle these situations gracefully.\n",
    "\n",
    "## 🎯 Common Exception Types\n",
    "\n",
    "| Exception | What Causes It | Example |\n",
    "|-----------|----------------|---------|\n",
    "| `NameError` | Using a variable that doesn't exist | `print(undefined_variable)` |\n",
    "| `ZeroDivisionError` | Dividing by zero | `result = 10 / 0` |\n",
    "| `FileNotFoundError` | Trying to open a file that doesn't exist | `open('missing.txt')` |\n",
    "| `ValueError` | Wrong type of value | `int('hello')` |\n",
    "| `TypeError` | Wrong data type | `'text' + 5` |\n",
    "| `IndexError` | List index out of range | `my_list[999]` |\n",
    "\n",
    "---"
   ]
  },
  {
   "cell_type": "markdown",
   "id": "f30b306a",
   "metadata": {},
   "source": [
    "## 🛡️ Basic Exception Handling: try-except\n",
    "\n",
    "The `try-except` block is like having a safety net for your code!"
   ]
  },
  {
   "cell_type": "code",
   "execution_count": 1,
   "id": "80b49aab",
   "metadata": {},
   "outputs": [
    {
     "name": "stdout",
     "output_type": "stream",
     "text": [
      "🛡️ Basic Exception Handling Examples:\n",
      "==================================================\n",
      "🚨 Caught an exception! The program continues running.\n",
      "🎉 The program continues after the exception!\n",
      "==================================================\n"
     ]
    }
   ],
   "source": [
    "# Example 1: Basic exception handling\n",
    "print(\"🛡️ Basic Exception Handling Examples:\")\n",
    "print(\"=\" * 50)\n",
    "\n",
    "try:\n",
    "    # This will cause a NameError\n",
    "    result = undefined_variable\n",
    "    print(\"This line won't execute\")\n",
    "except:\n",
    "    print(\"🚨 Caught an exception! The program continues running.\")\n",
    "\n",
    "print(\"🎉 The program continues after the exception!\")\n",
    "print(\"=\" * 50)\n"
   ]
  },
  {
   "cell_type": "code",
   "execution_count": 8,
   "id": "d51908eb",
   "metadata": {},
   "outputs": [
    {
     "name": "stdout",
     "output_type": "stream",
     "text": [
      "🎯 Specific Exception Handling:\n",
      "❌ Variable doesn't exist!\n"
     ]
    }
   ],
   "source": [
    "# Example 2: Catching specific exceptions\n",
    "print(\"🎯 Specific Exception Handling:\")\n",
    "\n",
    "# Example 1: NameError\n",
    "try:\n",
    "    result = undefined_variable\n",
    "except NameError:\n",
    "    # print(NameError)\n",
    "    print(\"❌ Variable doesn't exist!\")\n",
    "\n"
   ]
  },
  {
   "cell_type": "code",
   "execution_count": 9,
   "id": "b28b4d26",
   "metadata": {},
   "outputs": [
    {
     "name": "stdout",
     "output_type": "stream",
     "text": [
      "❌ Can't divide by zero!\n"
     ]
    }
   ],
   "source": [
    "# Example 2: ZeroDivisionError\n",
    "try:\n",
    "    result = 10 / 0\n",
    "except ZeroDivisionError:\n",
    "    print(\"❌ Can't divide by zero!\")"
   ]
  },
  {
   "cell_type": "code",
   "execution_count": 9,
   "id": "7899fc73",
   "metadata": {},
   "outputs": [
    {
     "name": "stdout",
     "output_type": "stream",
     "text": [
      "❌ That's not a valid number!\n"
     ]
    }
   ],
   "source": [
    "\n",
    "# Example 3: Multiple exceptions\n",
    "try:\n",
    "    number = int(input(\"Enter a number: \"))\n",
    "    result = 10 / number\n",
    "    print(f\"Result: {result}\")\n",
    "except ValueError:\n",
    "    print(\"❌ That's not a valid number!\")\n",
    "except ZeroDivisionError:\n",
    "    print(\"❌ Can't divide by zero!\")"
   ]
  },
  {
   "cell_type": "code",
   "execution_count": 6,
   "id": "6ca1a3ae",
   "metadata": {},
   "outputs": [
    {
     "name": "stdout",
     "output_type": "stream",
     "text": [
      "\n"
     ]
    }
   ],
   "source": [
    "a=input()\n",
    "print(a)"
   ]
  },
  {
   "cell_type": "markdown",
   "id": "26102c41",
   "metadata": {},
   "source": [
    "## 🎊 The try-except-else Block\n",
    "\n",
    "The `else` block runs only if NO exceptions occurred - it's like saying \"If everything went well, then do this!\""
   ]
  },
  {
   "cell_type": "code",
   "execution_count": 12,
   "id": "9adcee40",
   "metadata": {},
   "outputs": [
    {
     "name": "stdout",
     "output_type": "stream",
     "text": [
      "✅ Success! Result is 3.3333333333333335\n"
     ]
    }
   ],
   "source": [
    "# Example 3: try-except-else block\n",
    "try:\n",
    "    result = 10 / 3\n",
    "except ZeroDivisionError:\n",
    "    print(\"❌ Can't divide by zero!\")\n",
    "else:\n",
    "    print(f\"✅ Success! Result is {result}\")"
   ]
  },
  {
   "cell_type": "markdown",
   "id": "6f2845fa",
   "metadata": {},
   "source": [
    "## 🧹 The finally Block: Cleanup Code\n",
    "\n",
    "The `finally` block ALWAYS runs, whether an exception occurred or not. It's perfect for cleanup tasks!"
   ]
  },
  {
   "cell_type": "code",
   "execution_count": 16,
   "id": "375ef491",
   "metadata": {},
   "outputs": [
    {
     "name": "stdout",
     "output_type": "stream",
     "text": [
      "✅ Result: 50.0\n",
      "🧹 Done processing\n"
     ]
    }
   ],
   "source": [
    "# Example 4: try-except-else-finally\n",
    "# --> when except doesn't execute else will execute\n",
    "# --> finally always execute\n",
    "try:\n",
    "    number = float(input(\"Enter a number: \"))\n",
    "    result = 100 / number\n",
    "except ValueError:\n",
    "    print(\"❌ Not a valid number!\")\n",
    "except ZeroDivisionError:\n",
    "    print(\"❌ Can't divide by zero!\")\n",
    "else:\n",
    "    print(f\"✅ Result: {result}\")\n",
    "finally:\n",
    "    print(\"🧹 Done processing\")\n"
   ]
  },
  {
   "cell_type": "markdown",
   "id": "30a6e21c",
   "metadata": {},
   "source": [
    "## 📁 File Handling + Exception Handling = Best Practice!\n",
    "\n",
    "When working with files, always use exception handling to make your code robust!\n"
   ]
  },
  {
   "cell_type": "code",
   "execution_count": 19,
   "id": "b5abe7a0",
   "metadata": {},
   "outputs": [
    {
     "name": "stdout",
     "output_type": "stream",
     "text": [
      "📁 Safe File Operations:\n",
      "========================================\n",
      "🧪 Testing safe file reading:\n",
      "\n",
      "📖 Reading sample.txt:\n",
      "✅ Successfully read 'sample.txt'\n",
      "❌ Error reading file: 'str' object has no attribute 'ValueError'\n",
      "\n",
      "📖 Reading nonexistent.txt:\n",
      "❌ File 'nonexistent.txt' not found!\n",
      "\n",
      "💡 The program handles missing files gracefully!\n"
     ]
    }
   ],
   "source": [
    "# Example 5: Safe file operations with exception handling\n",
    "print(\"📁 Safe File Operations:\")\n",
    "print(\"=\" * 40)\n",
    "\n",
    "def safe_file_reader(filename):\n",
    "    \"\"\"\n",
    "    Safely read a file with error handling.\n",
    "    \"\"\"\n",
    "    try:\n",
    "        with open(filename, 'r') as file:\n",
    "            \n",
    "            content = file.read()\n",
    "           \n",
    "            print(f\"✅ Successfully read '{filename}'\")\n",
    "            print(content.ValueError)\n",
    "            return content\n",
    "            \n",
    "    except FileNotFoundError:\n",
    "        print(f\"❌ File '{filename}' not found!\")\n",
    "        return None\n",
    "        \n",
    "    except Exception as e:\n",
    "        print(f\"❌ Error reading file: {e}\")\n",
    "        return None\n",
    "\n",
    "# Test with a couple of files\n",
    "test_files = ['sample.txt', 'nonexistent.txt']\n",
    "\n",
    "print(\"🧪 Testing safe file reading:\")\n",
    "for filename in test_files:\n",
    "    print(f\"\\n📖 Reading {filename}:\")\n",
    "    content = safe_file_reader(filename)\n",
    "    \n",
    "    if content:\n",
    "        print(f\"📄 Content: {content[:50]}...\")\n",
    "\n",
    "print(\"\\n💡 The program handles missing files gracefully!\")\n"
   ]
  }
 ],
 "metadata": {
  "kernelspec": {
   "display_name": "Python 3",
   "language": "python",
   "name": "python3"
  },
  "language_info": {
   "codemirror_mode": {
    "name": "ipython",
    "version": 3
   },
   "file_extension": ".py",
   "mimetype": "text/x-python",
   "name": "python",
   "nbconvert_exporter": "python",
   "pygments_lexer": "ipython3",
   "version": "3.12.3"
  }
 },
 "nbformat": 4,
 "nbformat_minor": 5
}
