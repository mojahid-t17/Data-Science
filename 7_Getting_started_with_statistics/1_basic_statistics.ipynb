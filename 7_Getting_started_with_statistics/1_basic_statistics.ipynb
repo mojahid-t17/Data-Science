{
 "cells": [
  {
   "cell_type": "markdown",
   "id": "f512e524",
   "metadata": {},
   "source": [
    "## 1. What is Statistics?\n",
    "\n",
    "Statistics is the science of collecting, analyzing, interpreting, and presenting data.\n",
    "Two main branches:\n",
    "\n",
    "* Descriptive Statistics → organize and Summarizing data (mean, median, charts, variance). \n",
    "    *  measure of central tendency (mean, median, mode)\n",
    "    *  measure of dispersion (range, variance, standard deviation)\n",
    "\n",
    "* Inferential Statistics → Making predictions or decisions from data (hypothesis testing, regression).\n",
    "  collect data--> (using some experiments)--> conclusion or infrences-->other data(population data)\n",
    "  examples: class A has 50 students, we take 10 students as sample, and we find that the average height of these 10 students is 170cm, then we can infer that the average height of all 50 students in class A is around 170cm.which is called inferential statistics.\n",
    "    * Estimation (point estimates, confidence intervals)\n",
    "    * Hypothesis Testing (t-tests, chi-square tests)\n",
    "    * Regression Analysis (linear regression, logistic regression)"
   ]
  },
  {
   "cell_type": "markdown",
   "id": "8b60c9f0",
   "metadata": {},
   "source": [
    "## measure of central tendency (mean, median, mode)\n",
    "* Mean: The average of a set of numbers, calculated by adding them together and dividing by the count of numbers.\n",
    "  formula: mean = (sum of all values) / (number of values)\n",
    "* Median: The middle value in a sorted list of numbers. If the list has an even number of entries, the median is the average of the two middle numbers. formula: \n",
    "  - For odd number of values: median = middle value\n",
    "  - For even number of values: median = (middle value1 + middle value2) / 2\n",
    "* Mode: The number that appears most frequently in a data set. A set may have one mode, more than one mode, or no mode at all. formula: mode = value(s) with highest frequency\n",
    "## measure of dispersion (range, variance, standard deviation)\n",
    "* Range: The difference between the highest and lowest values in a data set. It provides a simple measure of how spread out the values are. \n",
    "  formula: range = maximum value - minimum value\n",
    "*  Variance: A measure of how much the numbers in a data set differ from the mean. It is calculated by taking the average of the squared differences from the mean. \n",
    "  formula: variance (σ²) = Σ (xi - μ)² / N\n",
    "  \n",
    "  where:\n",
    "  - xi = each value in the data set\n",
    "  - μ = mean of the data set\n",
    "  - N = number of values in the population data (for population variance)\n",
    "* sample variance (s²) = Σ (xi - x̄)² / (n - 1)\n",
    "  \n",
    "  where:\n",
    "  - xi = each value in the sample\n",
    "  - x̄ = mean of the sample\n",
    "  - n = number of values in the sample\n",
    "\n",
    "* Standard Deviation: The square root of the variance, providing a measure of the average distance of each data point from the mean. It is expressed in the same units as the data, making it more interpretable than variance.\n",
    "    formula: standard deviation (σ) = √variance = √(Σ (xi - μ)² / N) \n",
    "  \n"
   ]
  },
  {
   "cell_type": "markdown",
   "id": "ccb92007",
   "metadata": {},
   "source": [
    "# Difference Between Sample Data and Population Data\n",
    "\n",
    "- **Population data** refers to the complete set of individuals or items you want to study. It includes every possible observation in the group of interest.\n",
    "\n",
    "- **Sample data** is a smaller group selected from the population, used for analysis and to draw conclusions about the whole population.\n",
    "\n",
    "- For instance, if you want to know the average height of all students in a school (the population), you might measure just 100 students (the sample) to estimate it.\n",
    "\n",
    "- Using a sample is practical when it is difficult or impossible to collect data from the entire population.\n",
    "\n",
    "- Samples help estimate population characteristics (such as mean and variance) and are used for hypothesis testing.\n",
    "\n",
    "- However, using a sample can introduce sampling error—the difference between the sample statistic and the true population parameter.\n",
    "\n",
    "- Population parameters are usually represented by Greek letters (e.g., μ for mean, σ² for variance), while sample statistics use Latin letters (e.g., x̄ for mean, s² for variance).\n",
    "\n",
    "- The formula for population variance (σ²) uses N (the total number in the population) in the denominator, while sample variance (s²) uses (n - 1) to better account for the variability in a sample. n-1 is called degree of freedom."
   ]
  },
  {
   "cell_type": "markdown",
   "id": "d9bfe1b3",
   "metadata": {},
   "source": [
    "# Difference between variance and standard deviation\n",
    "* Variance measures the average squared deviation from the mean, while standard deviation is the square root of variance, providing a measure of spread in the same units as the data.\n",
    "* standard deviation is more interpretable than variance because it is in the same units as the original data, while variance is in squared units.\n",
    "* for example if the data is in cm, the variance will be in cm², while the standard deviation will be in cm."
   ]
  },
  {
   "cell_type": "markdown",
   "id": "eab2010d",
   "metadata": {},
   "source": [
    "# variable\n",
    " * variable is a characteristic or attribute that can take on different values among individuals in a population or sample.\n",
    " * two types of variables:\n",
    "   - Quantitative (numerical) variables: represent measurable quantities and can be discrete (countable values) or continuous (any value within a range). Examples include height, weight, and age.\n",
    "   - Categorical (qualitative) variables: represent categories or groups and can be nominal (no inherent order) or ordinal (inherent order). Examples"
   ]
  },
  {
   "cell_type": "markdown",
   "id": "218dafa3",
   "metadata": {},
   "source": [
    "## random variable\n",
    "* A random variable is a numerical outcome of a random phenomenon, which can take on different values based on chance.\n",
    "* There are two main types of random variables:\n",
    "  - Discrete Random Variables: These can take on a countable number of distinct values. Examples include the number of heads in coin tosses or the number of students in a class.\n",
    "  - Continuous Random Variables: These can take on any value within a given range or interval. Examples include tomorrow how many chance to rain, temperature."
   ]
  },
  {
   "cell_type": "markdown",
   "id": "9bb86ce7",
   "metadata": {},
   "source": [
    "## Histogram\n",
    "A histogram is a graphical representation of the distribution of numerical data. It is used to visualize the frequency of data points within specified ranges (bins)."
   ]
  },
  {
   "cell_type": "code",
   "execution_count": 4,
   "id": "4b76a422",
   "metadata": {},
   "outputs": [
    {
     "data": {
      "image/png": "[encoded data removed]",
      "text/plain": [
       "<Figure size 800x500 with 1 Axes>"
      ]
     },
     "metadata": {},
     "output_type": "display_data"
    }
   ],
   "source": [
    "# example of histogram with density curve\n",
    "%matplotlib inline\n",
    "import matplotlib.pyplot as plt\n",
    "import seaborn as sns\n",
    "x = [1,2,2,3,3,3,4,4,4,4,5,5,5,5,5]\n",
    "plt.figure(figsize=(8,5))\n",
    "sns.histplot(x, bins=5, kde=True, color='skyblue', edgecolor='black')\n",
    "plt.xlabel('Value')\n",
    "plt.ylabel('Frequency')\n",
    "plt.title('Histogram with Density Curve')\n",
    "plt.show()"
   ]
  },
  {
   "cell_type": "markdown",
   "id": "99fc09f9",
   "metadata": {},
   "source": [
    "## percentile and quartile\n",
    "* Percentile: A percentile is a measure that indicates the value below which a given percentage of observations in a data set fall. For example, the 25th percentile (P25) is the value below which 25% of the data points lie.\n",
    "* Quartile: Quartiles are specific percentiles that divide a data set into four equal parts. The three quartiles are:\n",
    "  - First Quartile (Q1): The 25th percentile, which separates the lowest 25% of the data from the rest.\n",
    "  - Second Quartile (Q2): The 50th percentile, which is the median of the data set.\n",
    "  - Third Quartile (Q3): The 75th percentile, which separates the highest 25% of the data from the rest.\n",
    "  - Interquartile Range (IQR): The difference between the third and first quartiles (IQR = Q3 - Q1), which measures the spread of the middle 50% of the data.\n",
    "  - lower bound = Q1 - 1.5 * IQR\n",
    "  - upper bound = Q3 + 1.5 * IQR\n",
    "  - Q1= 25 *(n+1)/100\n",
    "  - Q3= 75 *(n+1)/100"
   ]
  },
  {
   "cell_type": "markdown",
   "id": "7dc1d1a8",
   "metadata": {},
   "source": [
    "## Coverience and Correlation\n",
    "\n",
    "* Covariance: Covariance is a measure of how two random variables change together. It indicates the direction of the linear relationship between the variables. A positive covariance means that as one variable increases, the other tends to increase as well, while a negative covariance indicates that as one variable increases, the other tends to decrease. However, covariance does not provide information about the strength of the relationship or its scale.\n",
    "  - formula: Cov(X, Y) = Σ [(xi - μx)(yi - μy)] / N\n",
    "    where:\n",
    "    - xi and yi are individual data points of variables X and Y\n",
    "    - μx and μy are the means of variables X and Y\n",
    "    - N is the number of data points\n",
    "  * postive covariance: both variables move in the same direction. the vaue of covariance is greater than 0.\n",
    "  * negative covariance: both variables move in the opposite direction.the value of covariance is less than 0.\n",
    "  * zero covariance: no relationship between the variables.the value of covariance is 0.\n",
    "* Correlation: Correlation is a standardized measure of the relationship between two variables, indicating both the strength and direction of their linear relationship. The correlation coefficient (often denoted as \"r\") ranges from -1 to +1. A value of +1 indicates a perfect positive linear relationship, -1 indicates a perfect negative linear relationship, and 0 indicates no linear relationship. Correlation is dimensionless and provides a clearer understanding of the relationship compared to covariance.\n",
    "* two types of correlation:\n",
    "  - Pearson Correlation: Measures the linear relationship between two continuous variables. It assumes that the data is normally distributed and that the relationship is linear. The formula for Pearson's correlation coefficient (r) is:\n",
    "    r = Cov(X, Y) / (σx * σy)\n",
    "    where:\n",
    "    - Cov(X, Y) is the covariance between variables X and Y\n",
    "    - σx and σy are the standard deviations of variables X and Y\n",
    "  - Spearman's Rank Correlation: A non-parametric measure that assesses the strength and direction of the monotonic relationship between two variables. It does not assume a linear relationship or normal distribution. Instead, it uses the ranks of the data points. The formula for Spearman's rank correlation coefficient  is \n",
    "    ρ = cov(rank x,rank y) / (σ rank x * σ rank y)\n",
    "    where:\n",
    "    - cov(rank x, rank y) is the covariance of the ranks of variables X and Y\n",
    "    - σ rank x and σ rank y are the standard deviations of the ranks of variables X and Y\n",
    "  \n",
    "   * postive correlation: both variables move in the same direction.the value of correlation is greater than 0 to +1.\n",
    "   * negative correlation: both variables move in the opposite direction. the value of correlation is less than 0 to -1."
   ]
  }
 ],
 "metadata": {
  "kernelspec": {
   "display_name": "Python 3",
   "language": "python",
   "name": "python3"
  },
  "language_info": {
   "codemirror_mode": {
    "name": "ipython",
    "version": 3
   },
   "file_extension": ".py",
   "mimetype": "text/x-python",
   "name": "python",
   "nbconvert_exporter": "python",
   "pygments_lexer": "ipython3",
   "version": "3.12.3"
  }
 },
 "nbformat": 4,
 "nbformat_minor": 5
}
