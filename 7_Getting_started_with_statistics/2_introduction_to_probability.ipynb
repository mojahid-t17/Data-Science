{
 "cells": [
  {
   "cell_type": "markdown",
   "id": "e5fd4c7d",
   "metadata": {},
   "source": [
    "# Provability\n",
    "\n",
    "1. Additional Rule (matualy exclusive event and matally non exclusive event)\n",
    "2. Multification Rule (independent event and dependent event)\n",
    "   \n",
    "* Matually exclusive event: two events that cannot happen at the same time. For example, when flipping a coin, the events \"heads\" and \"tails\" are mutually exclusive because you cannot get both outcomes on a single flip.\n",
    "* Matually non-exclusive event: two events that can happen at the same time. For example, when rolling a die, the events \"rolling an even number\" and \"rolling a number greater than 3\" are not mutually exclusive because you can roll a 4 or a 6, which satisfies both conditions.\n",
    "* Independent event: two events are independent if the occurrence of one event does not affect the probability of the other event occurring. For example, when flipping a coin and rolling a die, the outcome of the coin flip does not affect the outcome of the die roll, so these events are independent.\n",
    "* Dependent event: two events are dependent if the occurrence of one event affects the probability of the other event occurring. For example, when drawing cards from a deck without replacement, the outcome of the first draw affects the probability of the second draw because there is one less card in the deck.\n",
    "* Additing rule:\n",
    "  - For matually exclusive event: P(A or B) = P(A) + P(B)\n",
    "  - For matually non-exclusive event: P(A or B) = P(A) + P(B) - P(A and B)\n",
    "* Multiplication rule:\n",
    "  - For independent event: P(A and B) = P(A) * P(B)\n",
    "  - For dependent event: P(A and B) = P(A) * P(B|A) "
   ]
  },
  {
   "cell_type": "markdown",
   "id": "451b5c26",
   "metadata": {},
   "source": []
  }
 ],
 "metadata": {
  "language_info": {
   "name": "python"
  }
 },
 "nbformat": 4,
 "nbformat_minor": 5
}
